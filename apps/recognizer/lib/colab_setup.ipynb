{
 "cells": [
  {
   "cell_type": "markdown",
   "metadata": {},
   "source": [
    "# Colab 配置脚本\n",
    "\n",
    "**NOTE: 不要在本地运行该脚本**"
   ]
  },
  {
   "cell_type": "code",
   "execution_count": null,
   "metadata": {},
   "outputs": [],
   "source": [
    "## 获取源码与运行环境\n",
    "\n",
    "# 安装/更新依赖\n",
    "%pip install torchmetrics\n",
    "%pip install -U mlxtend\n",
    "%pip install torchinfo\n",
    "%pip install -U torch\n",
    "%pip install -U torchvision\n",
    "\n",
    "# 创建目录\n",
    "from pathlib import Path\n",
    "Path('data').mkdir(exist_ok=True)\n",
    "\n",
    "# 导入脚本\n",
    "try:\n",
    "    import engine\n",
    "except:\n",
    "    # Get the going_modular scripts\n",
    "    print(\"[INFO] Couldn't find going_modular scripts... downloading them from GitHub.\")\n",
    "    !git clone https://github.com/HenryJi529/OpenMorningstar.git\n",
    "    !mv OpenMorningstar/apps/recognizer/lib/*.py .\n",
    "    !mv OpenMorningstar/apps/recognizer/lib/data/*.json ./data/\n",
    "    !rm __init__.py\n",
    "    !rm -rf OpenMorningstar\n",
    "    print(\"[INFO] Finish downloading...\")\n",
    "\n",
    "# 挂载Google Drive\n",
    "from google.colab import drive\n",
    "drive.mount('/content/drive')\n",
    "\n",
    "# 清理Jupyter Cell\n",
    "from IPython.display import clear_output\n",
    "clear_output()"
   ]
  },
  {
   "cell_type": "code",
   "execution_count": null,
   "metadata": {},
   "outputs": [],
   "source": [
    "## 启动tensorboard\n",
    "\n",
    "# Let's view our experiments within TensorBoard from within the notebook\n",
    "%load_ext tensorboard\n",
    "%tensorboard --logdir drive/MyDrive/runs\n",
    "# !pkill -f tensorboard # kill the tensorboard instance if it's still running"
   ]
  },
  {
   "cell_type": "code",
   "execution_count": null,
   "metadata": {},
   "outputs": [],
   "source": [
    "## 公开tensorboard到: http://server.morningstar369.com:16006\n",
    "\n",
    "# 获取frpc\n",
    "!wget -q -c https://github.com/fatedier/frp/releases/download/v0.51.2/frp_0.51.2_linux_amd64.tar.gz\n",
    "!tar -xf frp_*\n",
    "!rm frp_*.gz\n",
    "!mv frp_*/frpc ./\n",
    "\n",
    "# 配置frpc\n",
    "config = \"\"\"\n",
    "[common]\n",
    "server_addr = server.morningstar369.com\n",
    "server_port = 7000\n",
    "token = myToken\n",
    "[tensorboard-colab]\n",
    "type = tcp\n",
    "local_ip = 0.0.0.0\n",
    "local_port = 6006\n",
    "remote_port = 16006\n",
    "\"\"\"\n",
    "with open(\"frpc.ini\", \"w\") as file:\n",
    "    file.write(config)\n",
    "\n",
    "# 启动frpc\n",
    "!./frpc -c ./frpc.ini &"
   ]
  },
  {
   "cell_type": "code",
   "execution_count": 2,
   "metadata": {},
   "outputs": [],
   "source": [
    "from pathlib import Path\n",
    "\n",
    "import torch\n",
    "from torch import nn\n",
    "\n",
    "from PIL import Image\n",
    "import matplotlib.pyplot as plt\n",
    "\n",
    "import torchvision\n",
    "from torchvision import datasets, transforms\n",
    "\n",
    "from utils import time, set_seeds, save_model\n",
    "from data_processor import create_dataloaders\n",
    "from engine import train, evaluate"
   ]
  },
  {
   "cell_type": "code",
   "execution_count": null,
   "metadata": {},
   "outputs": [],
   "source": []
  }
 ],
 "metadata": {
  "kernelspec": {
   "display_name": "VENV",
   "language": "python",
   "name": "python3"
  },
  "language_info": {
   "codemirror_mode": {
    "name": "ipython",
    "version": 3
   },
   "file_extension": ".py",
   "mimetype": "text/x-python",
   "name": "python",
   "nbconvert_exporter": "python",
   "pygments_lexer": "ipython3",
   "version": "3.9.17"
  },
  "orig_nbformat": 4
 },
 "nbformat": 4,
 "nbformat_minor": 2
}
