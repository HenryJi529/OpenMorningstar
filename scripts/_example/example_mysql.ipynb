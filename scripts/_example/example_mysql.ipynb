{
 "cells": [
  {
   "cell_type": "code",
   "execution_count": 1,
   "metadata": {
    "collapsed": false,
    "pycharm": {
     "name": "#%%\n"
    }
   },
   "outputs": [],
   "source": [
    "from dotenv import load_dotenv\n",
    "import os\n",
    "env_path = os.getcwd() + \"/.env\"\n",
    "_ = load_dotenv(dotenv_path=env_path, verbose=True)"
   ]
  },
  {
   "cell_type": "code",
   "execution_count": 2,
   "metadata": {
    "collapsed": false,
    "pycharm": {
     "name": "#%%\n"
    }
   },
   "outputs": [
    {
     "name": "stdout",
     "output_type": "stream",
     "text": [
      "('information_schema',)\n",
      "('mysql',)\n",
      "('performance_schema',)\n",
      "('sql_tutorial',)\n",
      "('sys',)\n"
     ]
    }
   ],
   "source": [
    "import mysql.connector\n",
    "connection = mysql.connector.connect(host='localhost',\n",
    "                                    port='3306',\n",
    "                                    user='root',\n",
    "                                    password=os.environ[\"MYSQL_ROOT_PASSWORD\"],\n",
    "                                    database='sql_tutorial'\n",
    "                                    )\n",
    "cursor = connection.cursor()\n",
    "\n",
    "# 创建资料库\n",
    "# cursor.execute(\"CREATE DATABASE `database`;\")\n",
    "\n",
    "# 取得所有资料库名称\n",
    "cursor.execute(\"SHOW DATABASES;\")\n",
    "records = cursor.fetchall()\n",
    "for r in records:\n",
    "    print(r)\n",
    "\n",
    "# 选择资料库\n",
    "# cursor.execute(\"USE `sql_tutorial`;\")\n",
    "\n",
    "# 創建表格\n",
    "# cursor.execute('CREATE TABLE `qq`(qq INT);')\n",
    "\n",
    "# 关闭连接\n",
    "cursor.close()\n",
    "connection.commit()\n",
    "connection.close()"
   ]
  },
  {
   "cell_type": "code",
   "execution_count": null,
   "metadata": {},
   "outputs": [],
   "source": []
  }
 ],
 "metadata": {
  "kernelspec": {
   "display_name": "VENV",
   "language": "python",
   "name": "python3"
  },
  "language_info": {
   "codemirror_mode": {
    "name": "ipython",
    "version": 3
   },
   "file_extension": ".py",
   "mimetype": "text/x-python",
   "name": "python",
   "nbconvert_exporter": "python",
   "pygments_lexer": "ipython3",
   "version": "3.11.0"
  },
  "vscode": {
   "interpreter": {
    "hash": "3db281a8f50970a4e544521e6c368b5883e7c272df0dff394336c4ceef88e26a"
   }
  }
 },
 "nbformat": 4,
 "nbformat_minor": 0
}
