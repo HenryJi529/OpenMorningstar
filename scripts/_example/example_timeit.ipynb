{
 "cells": [
  {
   "cell_type": "code",
   "execution_count": 1,
   "metadata": {},
   "outputs": [],
   "source": [
    "import timeit"
   ]
  },
  {
   "cell_type": "code",
   "execution_count": 2,
   "metadata": {},
   "outputs": [],
   "source": [
    "def func1():\n",
    "\tsum = 0\n",
    "\tfor i in range(1000000):\n",
    "\t\tsum += i"
   ]
  },
  {
   "cell_type": "code",
   "execution_count": 3,
   "metadata": {},
   "outputs": [
    {
     "name": "stdout",
     "output_type": "stream",
     "text": [
      "0.7276217929902487\n",
      "[0.7773488640086725, 0.7081596239877399]\n"
     ]
    }
   ],
   "source": [
    "time1 = timeit.Timer(func1) # \"func1()\", setup=\"from __main__ import main\"\n",
    "print(time1.timeit(number=10))\n",
    "print(time1.repeat(repeat=2,number=10))"
   ]
  },
  {
   "cell_type": "code",
   "execution_count": null,
   "metadata": {},
   "outputs": [],
   "source": []
  }
 ],
 "metadata": {
  "kernelspec": {
   "display_name": "VENV",
   "language": "python",
   "name": "python3"
  },
  "language_info": {
   "codemirror_mode": {
    "name": "ipython",
    "version": 3
   },
   "file_extension": ".py",
   "mimetype": "text/x-python",
   "name": "python",
   "nbconvert_exporter": "python",
   "pygments_lexer": "ipython3",
   "version": "3.11.0"
  },
  "orig_nbformat": 4,
  "vscode": {
   "interpreter": {
    "hash": "3db281a8f50970a4e544521e6c368b5883e7c272df0dff394336c4ceef88e26a"
   }
  }
 },
 "nbformat": 4,
 "nbformat_minor": 2
}
