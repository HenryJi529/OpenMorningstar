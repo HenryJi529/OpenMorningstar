{
 "cells": [
  {
   "cell_type": "code",
   "execution_count": 1,
   "metadata": {},
   "outputs": [],
   "source": [
    "import logging"
   ]
  },
  {
   "cell_type": "code",
   "execution_count": 2,
   "metadata": {},
   "outputs": [],
   "source": [
    "LOG_FORMAT = \"%(asctime)s - %(levelname)s - %(message)s\"\n",
    "DATE_FORMAT = \"%m/%d/%Y %H:%M:%S %p\"\n",
    "# NOTE: 一次性配置，多次并不覆盖\n",
    "logging.basicConfig(filename='./TEMP/logging/my.log', level=logging.DEBUG, format=LOG_FORMAT, datefmt=DATE_FORMAT)"
   ]
  },
  {
   "cell_type": "code",
   "execution_count": 3,
   "metadata": {},
   "outputs": [],
   "source": [
    "logging.debug(\"This is a debug log.\")\n",
    "logging.info(\"This is a info log.\")\n",
    "logging.warning(\"Some one delete the log file.\", exc_info=True, stack_info=True, extra={'user': 'Tom', 'ip': '47.98.53.222'})\n",
    "logging.error(\"This is a error log.\")\n",
    "logging.critical(\"This is a critical log.\")"
   ]
  },
  {
   "cell_type": "code",
   "execution_count": null,
   "metadata": {},
   "outputs": [],
   "source": []
  }
 ],
 "metadata": {
  "kernelspec": {
   "display_name": "VENV",
   "language": "python",
   "name": "python3"
  },
  "language_info": {
   "codemirror_mode": {
    "name": "ipython",
    "version": 3
   },
   "file_extension": ".py",
   "mimetype": "text/x-python",
   "name": "python",
   "nbconvert_exporter": "python",
   "pygments_lexer": "ipython3",
   "version": "3.11.0"
  },
  "orig_nbformat": 4,
  "vscode": {
   "interpreter": {
    "hash": "3db281a8f50970a4e544521e6c368b5883e7c272df0dff394336c4ceef88e26a"
   }
  }
 },
 "nbformat": 4,
 "nbformat_minor": 2
}
