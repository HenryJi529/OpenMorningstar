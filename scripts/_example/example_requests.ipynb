{
 "cells": [
  {
   "cell_type": "code",
   "execution_count": 1,
   "metadata": {},
   "outputs": [],
   "source": [
    "import requests\n",
    "# 科学上网代理配置\n",
    "proxies = {\"http\": \"http://127.0.0.1:1087\", \"https\": \"http://127.0.0.1:1087\",} "
   ]
  },
  {
   "cell_type": "code",
   "execution_count": 2,
   "metadata": {},
   "outputs": [
    {
     "name": "stdout",
     "output_type": "stream",
     "text": [
      "HTTP的头部信息:\n",
      "{'Server': 'nginx/1.23.3', 'Date': 'Sun, 22 Jan 2023 04:12:45 GMT', 'Content-Type': 'text/html; charset=utf-8', 'Transfer-Encoding': 'chunked', 'Connection': 'keep-alive', 'X-Frame-Options': 'SAMEORIGIN', 'Vary': 'Cookie, Origin', 'X-Content-Type-Options': 'nosniff', 'Referrer-Policy': 'same-origin', 'Cross-Origin-Opener-Policy': 'same-origin', 'Set-Cookie': 'csrftoken=tuUiG0hxByZOGJbPViEy14GlFSwUZZzn; expires=Sun, 21 Jan 2024 04:12:45 GMT; Max-Age=31449600; Path=/; SameSite=Lax; Secure', 'Content-Encoding': 'gzip'}\n",
      "\n",
      "\n",
      "编码:\n",
      "utf-8\n",
      "\n",
      "\n",
      "cookies:\n",
      "<RequestsCookieJar[<Cookie csrftoken=tuUiG0hxByZOGJbPViEy14GlFSwUZZzn for morningstar369.com/>]>\n",
      "\n",
      "\n",
      "实际的url:\n",
      "https://morningstar369.com/?page=1\n",
      "\n",
      "\n",
      "状态码:\n",
      "200\n",
      "\n",
      "\n"
     ]
    }
   ],
   "source": [
    "\"\"\" HTTP的get方法 \"\"\"\n",
    "# response = requests.get('https://morningstar369.com/', params={'page': '1'}, timeout=2.5)\n",
    "response = requests.get('https://morningstar369.com/', proxies=proxies, params={'page': '1'}, timeout=2.5)\n",
    "# 查看HTTP的头部信息\n",
    "print(f\"HTTP的头部信息:\\n{response.headers}\\n\\n\")\n",
    "# 获取编码\n",
    "print(f\"编码:\\n{response.encoding}\\n\\n\")\n",
    "# 获取cookies\n",
    "print(f\"cookies:\\n{response.cookies}\\n\\n\")\n",
    "# 查看实际的url\n",
    "print(f\"实际的url:\\n{response.url}\\n\\n\")\n",
    "# 查看状态码\n",
    "print(f\"状态码:\\n{response.status_code}\\n\\n\")\n",
    "# 获取html文本\n",
    "# print(f\"html文本:\\n{response.text[:200]}\\n\\n\")\n",
    "# 无论响应是文本还是二进制内容，我们都可以用content属性获得bytes对象\n",
    "# print(f\"html内容:\\n{response.content[0:200]}\\n\\n\")"
   ]
  },
  {
   "cell_type": "code",
   "execution_count": 3,
   "metadata": {},
   "outputs": [],
   "source": [
    "\"\"\" 读取二进制 \"\"\"\n",
    "r = requests.get(\"https://morningstar369.com/get-image-captcha/\", proxies=proxies)\n",
    "r.encoding"
   ]
  },
  {
   "cell_type": "code",
   "execution_count": 4,
   "metadata": {},
   "outputs": [
    {
     "data": {
      "text/plain": [
       "[{'book_name': '现代JavaScript教程',\n",
       "  'category_name': '技艺',\n",
       "  'author_name': 'LeviDing',\n",
       "  'translator_name': None,\n",
       "  'uri': 'https://zh.javascript.info/download/1p4wct1/tutorial.zip'},\n",
       " {'book_name': '怪诞行为学(1-6)',\n",
       "  'category_name': '思维',\n",
       "  'author_name': '丹·艾瑞里',\n",
       "  'translator_name': '徐娟',\n",
       "  'uri': '/media/book/20221101195051/怪诞行为学1-6--丹艾瑞里.zip'},\n",
       " {'book_name': '全球通史',\n",
       "  'category_name': '政史',\n",
       "  'author_name': 'L·S·斯塔夫里阿诺斯',\n",
       "  'translator_name': None,\n",
       "  'uri': '/media/book/20221101195238/全球通史--LS斯塔夫里阿诺斯.epub'},\n",
       " {'book_name': '如果这是宋史',\n",
       "  'category_name': '政史',\n",
       "  'author_name': '高天流云',\n",
       "  'translator_name': None,\n",
       "  'uri': '/media/book/20221101195342/如果这是宋史--高天流云.epub'},\n",
       " {'book_name': '刘慈欣作品集',\n",
       "  'category_name': '幻想',\n",
       "  'author_name': '刘慈欣',\n",
       "  'translator_name': None,\n",
       "  'uri': '/media/book/20221101195454/刘慈欣作品集--刘慈欣.epub'},\n",
       " {'book_name': '清华园日记',\n",
       "  'category_name': '传记',\n",
       "  'author_name': '季羡林',\n",
       "  'translator_name': None,\n",
       "  'uri': '/media/book/20221101195549/清华园日记--季羡林.epub'},\n",
       " {'book_name': '天生有罪',\n",
       "  'category_name': '传记',\n",
       "  'author_name': '特雷弗·诺亚',\n",
       "  'translator_name': None,\n",
       "  'uri': '/media/book/20221101195647/天生有罪--特雷弗诺亚.epub'},\n",
       " {'book_name': '一只特立独行的猪',\n",
       "  'category_name': '思维',\n",
       "  'author_name': '王小波',\n",
       "  'translator_name': None,\n",
       "  'uri': '/media/book/20221101195830/一只特立独行的猪--王小波.epub'},\n",
       " {'book_name': '美国种族简史',\n",
       "  'category_name': '政史',\n",
       "  'author_name': '托马斯·索威尔',\n",
       "  'translator_name': None,\n",
       "  'uri': '/media/book/20221101200226/美国种族简史--托马斯索威尔.epub'},\n",
       " {'book_name': '写给大家看的设计书(第3版)',\n",
       "  'category_name': '技艺',\n",
       "  'author_name': '罗宾·威廉姆斯',\n",
       "  'translator_name': None,\n",
       "  'uri': '/media/book/20221101210849/写给大家看的设计书第3版--罗宾威廉姆斯.epub'},\n",
       " {'book_name': '沉默的大多数',\n",
       "  'category_name': '思维',\n",
       "  'author_name': '王小波',\n",
       "  'translator_name': None,\n",
       "  'uri': '/media/book/20221101211302/沉默的大多数--王小波.epub'},\n",
       " {'book_name': '八十天环游地球',\n",
       "  'category_name': '幻想',\n",
       "  'author_name': '儒勒·凡尔纳',\n",
       "  'translator_name': None,\n",
       "  'uri': '/media/book/20221101211427/八十天环游地球--儒勒凡尔纳.epub'},\n",
       " {'book_name': '历史是个什么玩意儿',\n",
       "  'category_name': '政史',\n",
       "  'author_name': '袁腾飞',\n",
       "  'translator_name': None,\n",
       "  'uri': '/media/book/20221101211523/历史是个什么玩意儿--袁腾飞.epub'},\n",
       " {'book_name': '王朔文集',\n",
       "  'category_name': '思维',\n",
       "  'author_name': '王朔',\n",
       "  'translator_name': None,\n",
       "  'uri': '/media/book/20221101211903/王朔文集--王朔.epub'}]"
      ]
     },
     "execution_count": 4,
     "metadata": {},
     "output_type": "execute_result"
    }
   ],
   "source": [
    "\"\"\" 读取json \"\"\"\n",
    "r = requests.get(\"https://morningstar369.com/book/api/\", proxies=proxies)\n",
    "r.json()"
   ]
  },
  {
   "cell_type": "markdown",
   "metadata": {},
   "source": [
    "#### POST中解决csrf问题\n",
    "在使用Python中的request模块的post请求时，由于网站开启了csrf跨站请求攻击，会出现403错误。  \n",
    "因为我们在使用post的时候没有携带csrf数据去验证，网站会不认可我们。  \n",
    "因此我们需要第一次的时候使用get请求，然后使用re正则匹配到这个csrf-token命令，取出来这个命令，\n",
    "然后在使用post发送请求，在请求中的数据中添加csrf的键值对，然后就可以使用post访问到网上了，并且也可以post请求携带数据。"
   ]
  },
  {
   "cell_type": "code",
   "execution_count": null,
   "metadata": {},
   "outputs": [],
   "source": []
  },
  {
   "cell_type": "code",
   "execution_count": null,
   "metadata": {},
   "outputs": [],
   "source": []
  }
 ],
 "metadata": {
  "kernelspec": {
   "display_name": "Python 3.10.6 ('VENV': venv)",
   "language": "python",
   "name": "python3"
  },
  "language_info": {
   "codemirror_mode": {
    "name": "ipython",
    "version": 3
   },
   "file_extension": ".py",
   "mimetype": "text/x-python",
   "name": "python",
   "nbconvert_exporter": "python",
   "pygments_lexer": "ipython3",
   "version": "3.10.9"
  },
  "orig_nbformat": 4,
  "vscode": {
   "interpreter": {
    "hash": "3db281a8f50970a4e544521e6c368b5883e7c272df0dff394336c4ceef88e26a"
   }
  }
 },
 "nbformat": 4,
 "nbformat_minor": 2
}
